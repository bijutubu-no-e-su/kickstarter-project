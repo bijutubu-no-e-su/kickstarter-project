{
 "cells": [
  {
   "cell_type": "markdown",
   "metadata": {},
   "source": [
    "# 現場で使える機械学習・データ分析基礎講座　Day1課題"
   ]
  },
  {
   "cell_type": "markdown",
   "metadata": {},
   "source": [
    "# Kickstarter Projects"
   ]
  },
  {
   "cell_type": "markdown",
   "metadata": {},
   "source": [
    "## Kickstarterとは\n"
   ]
  },
  {
   "cell_type": "markdown",
   "metadata": {},
   "source": [
    "Kickstarterとは2009年に設立されたアメリカ合衆国の民間営利企業で、自社のウェブサイトにおいてクリエイティブなプロジェクトに向けてクラウドファンディングによる資金調達を行う手段を提供している。\n",
    "自主製作の映画、音楽、ジャーナリズムに向けての舞台芸術や漫画、コンピュータゲーム、食関連といった多種多様な試みに対して<font color=\"DarkOrange\">**資金調達**</font>を行なっている。寄付と同様の扱いであり、投資者に資金を返済する義務はない。人々は金を稼ぐためにKickstarterのプロジェクトに投資することは出来ず、感謝のパーソナルノート、カスタムTシャツ、プロジェクト関係者との会食といった形のある賞品やこの場でしか味わえない経験、もしくは新商品のお試しと引き換えにプロジェクトのバックアップのみを行える。"
   ]
  },
  {
   "cell_type": "markdown",
   "metadata": {},
   "source": [
    "Kickstarterは一般大衆から資金を集めることを容易にしていて、従来の利息や付加価値によるリターンを条件とした投資に代わる手法としている。プロジェクト創設者は資金の<font color=\"DarkOrange\">***調達期限***</font>と<font color=\"DarkOrange\">***目標最小金額***</font>と設定するが、もし設定目標が<font color='DarkOrange'>期限</font>に達しなかった場合は資金を得ることはできない。資金提供者が約束した資金はAmazon Paymentsを使って収集する。\n",
    "[ウィキペディア（Wikipedia）](https://ja.wikipedia.org/wiki/Kickstarter)"
   ]
  },
  {
   "cell_type": "code",
   "execution_count": 45,
   "metadata": {},
   "outputs": [],
   "source": [
    "#ライブラリインポート\n",
    "import pandas as pd\n",
    "import matplotlib.pyplot as plt\n",
    "import numpy as np\n",
    "import seaborn as sns\n",
    "from sklearn.linear_model import SGDClassifier, LogisticRegression\n",
    "from sklearn.metrics import log_loss, accuracy_score, confusion_matrix, precision_score, recall_score, f1_score\n",
    "from sklearn.model_selection import train_test_split\n",
    "%matplotlib inline\n"
   ]
  },
  {
   "cell_type": "markdown",
   "metadata": {},
   "source": [
    "## データの概観"
   ]
  },
  {
   "cell_type": "code",
   "execution_count": 3,
   "metadata": {},
   "outputs": [
    {
     "data": {
      "text/html": [
       "<div>\n",
       "<style scoped>\n",
       "    .dataframe tbody tr th:only-of-type {\n",
       "        vertical-align: middle;\n",
       "    }\n",
       "\n",
       "    .dataframe tbody tr th {\n",
       "        vertical-align: top;\n",
       "    }\n",
       "\n",
       "    .dataframe thead th {\n",
       "        text-align: right;\n",
       "    }\n",
       "</style>\n",
       "<table border=\"1\" class=\"dataframe\">\n",
       "  <thead>\n",
       "    <tr style=\"text-align: right;\">\n",
       "      <th></th>\n",
       "      <th>ID</th>\n",
       "      <th>name</th>\n",
       "      <th>category</th>\n",
       "      <th>main_category</th>\n",
       "      <th>currency</th>\n",
       "      <th>deadline</th>\n",
       "      <th>goal</th>\n",
       "      <th>launched</th>\n",
       "      <th>pledged</th>\n",
       "      <th>state</th>\n",
       "      <th>backers</th>\n",
       "      <th>country</th>\n",
       "      <th>usd pledged</th>\n",
       "      <th>usd_pledged_real</th>\n",
       "      <th>usd_goal_real</th>\n",
       "    </tr>\n",
       "  </thead>\n",
       "  <tbody>\n",
       "    <tr>\n",
       "      <th>0</th>\n",
       "      <td>1000002330</td>\n",
       "      <td>The Songs of Adelaide &amp; Abullah</td>\n",
       "      <td>Poetry</td>\n",
       "      <td>Publishing</td>\n",
       "      <td>GBP</td>\n",
       "      <td>2015-10-09</td>\n",
       "      <td>1000.0</td>\n",
       "      <td>2015-08-11 12:12:28</td>\n",
       "      <td>0.00</td>\n",
       "      <td>failed</td>\n",
       "      <td>0</td>\n",
       "      <td>GB</td>\n",
       "      <td>0.00</td>\n",
       "      <td>0.00</td>\n",
       "      <td>1533.95</td>\n",
       "    </tr>\n",
       "    <tr>\n",
       "      <th>1</th>\n",
       "      <td>1000003930</td>\n",
       "      <td>Greeting From Earth: ZGAC Arts Capsule For ET</td>\n",
       "      <td>Narrative Film</td>\n",
       "      <td>Film &amp; Video</td>\n",
       "      <td>USD</td>\n",
       "      <td>2017-11-01</td>\n",
       "      <td>30000.0</td>\n",
       "      <td>2017-09-02 04:43:57</td>\n",
       "      <td>2421.00</td>\n",
       "      <td>failed</td>\n",
       "      <td>15</td>\n",
       "      <td>US</td>\n",
       "      <td>100.00</td>\n",
       "      <td>2421.00</td>\n",
       "      <td>30000.00</td>\n",
       "    </tr>\n",
       "    <tr>\n",
       "      <th>2</th>\n",
       "      <td>1000004038</td>\n",
       "      <td>Where is Hank?</td>\n",
       "      <td>Narrative Film</td>\n",
       "      <td>Film &amp; Video</td>\n",
       "      <td>USD</td>\n",
       "      <td>2013-02-26</td>\n",
       "      <td>45000.0</td>\n",
       "      <td>2013-01-12 00:20:50</td>\n",
       "      <td>220.00</td>\n",
       "      <td>failed</td>\n",
       "      <td>3</td>\n",
       "      <td>US</td>\n",
       "      <td>220.00</td>\n",
       "      <td>220.00</td>\n",
       "      <td>45000.00</td>\n",
       "    </tr>\n",
       "    <tr>\n",
       "      <th>3</th>\n",
       "      <td>1000007540</td>\n",
       "      <td>ToshiCapital Rekordz Needs Help to Complete Album</td>\n",
       "      <td>Music</td>\n",
       "      <td>Music</td>\n",
       "      <td>USD</td>\n",
       "      <td>2012-04-16</td>\n",
       "      <td>5000.0</td>\n",
       "      <td>2012-03-17 03:24:11</td>\n",
       "      <td>1.00</td>\n",
       "      <td>failed</td>\n",
       "      <td>1</td>\n",
       "      <td>US</td>\n",
       "      <td>1.00</td>\n",
       "      <td>1.00</td>\n",
       "      <td>5000.00</td>\n",
       "    </tr>\n",
       "    <tr>\n",
       "      <th>4</th>\n",
       "      <td>1000011046</td>\n",
       "      <td>Community Film Project: The Art of Neighborhoo...</td>\n",
       "      <td>Film &amp; Video</td>\n",
       "      <td>Film &amp; Video</td>\n",
       "      <td>USD</td>\n",
       "      <td>2015-08-29</td>\n",
       "      <td>19500.0</td>\n",
       "      <td>2015-07-04 08:35:03</td>\n",
       "      <td>1283.00</td>\n",
       "      <td>canceled</td>\n",
       "      <td>14</td>\n",
       "      <td>US</td>\n",
       "      <td>1283.00</td>\n",
       "      <td>1283.00</td>\n",
       "      <td>19500.00</td>\n",
       "    </tr>\n",
       "    <tr>\n",
       "      <th>5</th>\n",
       "      <td>1000014025</td>\n",
       "      <td>Monarch Espresso Bar</td>\n",
       "      <td>Restaurants</td>\n",
       "      <td>Food</td>\n",
       "      <td>USD</td>\n",
       "      <td>2016-04-01</td>\n",
       "      <td>50000.0</td>\n",
       "      <td>2016-02-26 13:38:27</td>\n",
       "      <td>52375.00</td>\n",
       "      <td>successful</td>\n",
       "      <td>224</td>\n",
       "      <td>US</td>\n",
       "      <td>52375.00</td>\n",
       "      <td>52375.00</td>\n",
       "      <td>50000.00</td>\n",
       "    </tr>\n",
       "    <tr>\n",
       "      <th>6</th>\n",
       "      <td>1000023410</td>\n",
       "      <td>Support Solar Roasted Coffee &amp; Green Energy!  ...</td>\n",
       "      <td>Food</td>\n",
       "      <td>Food</td>\n",
       "      <td>USD</td>\n",
       "      <td>2014-12-21</td>\n",
       "      <td>1000.0</td>\n",
       "      <td>2014-12-01 18:30:44</td>\n",
       "      <td>1205.00</td>\n",
       "      <td>successful</td>\n",
       "      <td>16</td>\n",
       "      <td>US</td>\n",
       "      <td>1205.00</td>\n",
       "      <td>1205.00</td>\n",
       "      <td>1000.00</td>\n",
       "    </tr>\n",
       "    <tr>\n",
       "      <th>7</th>\n",
       "      <td>1000030581</td>\n",
       "      <td>Chaser Strips. Our Strips make Shots their B*tch!</td>\n",
       "      <td>Drinks</td>\n",
       "      <td>Food</td>\n",
       "      <td>USD</td>\n",
       "      <td>2016-03-17</td>\n",
       "      <td>25000.0</td>\n",
       "      <td>2016-02-01 20:05:12</td>\n",
       "      <td>453.00</td>\n",
       "      <td>failed</td>\n",
       "      <td>40</td>\n",
       "      <td>US</td>\n",
       "      <td>453.00</td>\n",
       "      <td>453.00</td>\n",
       "      <td>25000.00</td>\n",
       "    </tr>\n",
       "    <tr>\n",
       "      <th>8</th>\n",
       "      <td>1000034518</td>\n",
       "      <td>SPIN - Premium Retractable In-Ear Headphones w...</td>\n",
       "      <td>Product Design</td>\n",
       "      <td>Design</td>\n",
       "      <td>USD</td>\n",
       "      <td>2014-05-29</td>\n",
       "      <td>125000.0</td>\n",
       "      <td>2014-04-24 18:14:43</td>\n",
       "      <td>8233.00</td>\n",
       "      <td>canceled</td>\n",
       "      <td>58</td>\n",
       "      <td>US</td>\n",
       "      <td>8233.00</td>\n",
       "      <td>8233.00</td>\n",
       "      <td>125000.00</td>\n",
       "    </tr>\n",
       "    <tr>\n",
       "      <th>9</th>\n",
       "      <td>100004195</td>\n",
       "      <td>STUDIO IN THE SKY - A Documentary Feature Film...</td>\n",
       "      <td>Documentary</td>\n",
       "      <td>Film &amp; Video</td>\n",
       "      <td>USD</td>\n",
       "      <td>2014-08-10</td>\n",
       "      <td>65000.0</td>\n",
       "      <td>2014-07-11 21:55:48</td>\n",
       "      <td>6240.57</td>\n",
       "      <td>canceled</td>\n",
       "      <td>43</td>\n",
       "      <td>US</td>\n",
       "      <td>6240.57</td>\n",
       "      <td>6240.57</td>\n",
       "      <td>65000.00</td>\n",
       "    </tr>\n",
       "  </tbody>\n",
       "</table>\n",
       "</div>"
      ],
      "text/plain": [
       "           ID                                               name  \\\n",
       "0  1000002330                    The Songs of Adelaide & Abullah   \n",
       "1  1000003930      Greeting From Earth: ZGAC Arts Capsule For ET   \n",
       "2  1000004038                                     Where is Hank?   \n",
       "3  1000007540  ToshiCapital Rekordz Needs Help to Complete Album   \n",
       "4  1000011046  Community Film Project: The Art of Neighborhoo...   \n",
       "5  1000014025                               Monarch Espresso Bar   \n",
       "6  1000023410  Support Solar Roasted Coffee & Green Energy!  ...   \n",
       "7  1000030581  Chaser Strips. Our Strips make Shots their B*tch!   \n",
       "8  1000034518  SPIN - Premium Retractable In-Ear Headphones w...   \n",
       "9   100004195  STUDIO IN THE SKY - A Documentary Feature Film...   \n",
       "\n",
       "         category main_category currency    deadline      goal  \\\n",
       "0          Poetry    Publishing      GBP  2015-10-09    1000.0   \n",
       "1  Narrative Film  Film & Video      USD  2017-11-01   30000.0   \n",
       "2  Narrative Film  Film & Video      USD  2013-02-26   45000.0   \n",
       "3           Music         Music      USD  2012-04-16    5000.0   \n",
       "4    Film & Video  Film & Video      USD  2015-08-29   19500.0   \n",
       "5     Restaurants          Food      USD  2016-04-01   50000.0   \n",
       "6            Food          Food      USD  2014-12-21    1000.0   \n",
       "7          Drinks          Food      USD  2016-03-17   25000.0   \n",
       "8  Product Design        Design      USD  2014-05-29  125000.0   \n",
       "9     Documentary  Film & Video      USD  2014-08-10   65000.0   \n",
       "\n",
       "              launched   pledged       state  backers country  usd pledged  \\\n",
       "0  2015-08-11 12:12:28      0.00      failed        0      GB         0.00   \n",
       "1  2017-09-02 04:43:57   2421.00      failed       15      US       100.00   \n",
       "2  2013-01-12 00:20:50    220.00      failed        3      US       220.00   \n",
       "3  2012-03-17 03:24:11      1.00      failed        1      US         1.00   \n",
       "4  2015-07-04 08:35:03   1283.00    canceled       14      US      1283.00   \n",
       "5  2016-02-26 13:38:27  52375.00  successful      224      US     52375.00   \n",
       "6  2014-12-01 18:30:44   1205.00  successful       16      US      1205.00   \n",
       "7  2016-02-01 20:05:12    453.00      failed       40      US       453.00   \n",
       "8  2014-04-24 18:14:43   8233.00    canceled       58      US      8233.00   \n",
       "9  2014-07-11 21:55:48   6240.57    canceled       43      US      6240.57   \n",
       "\n",
       "   usd_pledged_real  usd_goal_real  \n",
       "0              0.00        1533.95  \n",
       "1           2421.00       30000.00  \n",
       "2            220.00       45000.00  \n",
       "3              1.00        5000.00  \n",
       "4           1283.00       19500.00  \n",
       "5          52375.00       50000.00  \n",
       "6           1205.00        1000.00  \n",
       "7            453.00       25000.00  \n",
       "8           8233.00      125000.00  \n",
       "9           6240.57       65000.00  "
      ]
     },
     "execution_count": 3,
     "metadata": {},
     "output_type": "execute_result"
    }
   ],
   "source": [
    "df= pd.read_csv(\"./data/ks-projects-201801.csv\")\n",
    "df.head(10)\n"
   ]
  },
  {
   "cell_type": "code",
   "execution_count": 4,
   "metadata": {},
   "outputs": [
    {
     "name": "stdout",
     "output_type": "stream",
     "text": [
      "プロジェクト成功の割合\n",
      "failed        52.22\n",
      "successful    35.38\n",
      "canceled      10.24\n",
      "undefined      0.94\n",
      "live           0.74\n",
      "suspended      0.49\n",
      "Name: state, dtype: float64\n"
     ]
    },
    {
     "data": {
      "text/plain": [
       "([<matplotlib.patches.Wedge at 0x10f71b9b0>,\n",
       "  <matplotlib.patches.Wedge at 0x1104040f0>,\n",
       "  <matplotlib.patches.Wedge at 0x1104047f0>,\n",
       "  <matplotlib.patches.Wedge at 0x110404ef0>,\n",
       "  <matplotlib.patches.Wedge at 0x11040d630>,\n",
       "  <matplotlib.patches.Wedge at 0x11040dd30>],\n",
       " [Text(1.0973370970139384, -0.0764937612947789, 'failed'),\n",
       "  Text(-1.0440802851696713, -0.3462605350310917, 'canceled'),\n",
       "  Text(-0.48628506213158074, 0.986674636517877, 'successful'),\n",
       "  Text(-0.11706827548385156, 1.093752722911005, 'live'),\n",
       "  Text(-0.059209748343724285, 1.098405301198548, 'undefined'),\n",
       "  Text(-0.01684632545301945, 1.0998709930345154, 'suspended')],\n",
       " [Text(0.5985475074621481, -0.041723869797152126, '52.2%'),\n",
       "  Text(-0.5694983373652752, -0.18886938274423182, '35.4%'),\n",
       "  Text(-0.26524639752631674, 0.5381861653733874, '10.2%'),\n",
       "  Text(-0.06385542299119175, 0.5965923943150935, '0.9%'),\n",
       "  Text(-0.032296226369304154, 0.599130164290117, '0.7%'),\n",
       "  Text(-0.009188904792556064, 0.5999296325642811, '0.5%')])"
      ]
     },
     "execution_count": 4,
     "metadata": {},
     "output_type": "execute_result"
    },
    {
     "data": {
      "image/png": "[encoded data removed]",
      "text/plain": [
       "<Figure size 432x288 with 1 Axes>"
      ]
     },
     "metadata": {},
     "output_type": "display_data"
    }
   ],
   "source": [
    "#目的変数とすべきstateの概観\n",
    "labels = df['state'].unique()\n",
    "state = df[\"state\"].value_counts() \n",
    "state_rate = round(state / len(df[\"state\"]) * 100,2)\n",
    "print('プロジェクト成功の割合')\n",
    "print(state_rate)\n",
    "plt.pie(state, labels=labels,counterclock=False, startangle=90,autopct=\"%1.1f%%\")"
   ]
  },
  {
   "cell_type": "markdown",
   "metadata": {},
   "source": [
    "successful, failed, 以外にもstateが複数存在する。\n",
    "とりあえず目的変数はsuccessful, failedとする。\n",
    "(cancelなどの中にも目標額を到達したものがありそうなのでそれを考慮して目的変数を作るというのもあり？)"
   ]
  },
  {
   "cell_type": "code",
   "execution_count": 5,
   "metadata": {},
   "outputs": [],
   "source": [
    "df = df[(df['state'] == 'failed') | (df['state'] == 'successful')].copy()\n",
    "category_labels=df['category'].unique()\n",
    "main_category_labels = df['main_category'].unique()\n",
    "currency_labels = df['currency'].unique()\n",
    "country_labels = df['country'].unique()"
   ]
  },
  {
   "cell_type": "code",
   "execution_count": 74,
   "metadata": {},
   "outputs": [
    {
     "data": {
      "text/plain": [
       "<matplotlib.axes._subplots.AxesSubplot at 0x15249a390>"
      ]
     },
     "execution_count": 74,
     "metadata": {},
     "output_type": "execute_result"
    },
    {
     "data": {
      "image/png": "[encoded data removed]",
      "text/plain": [
       "<Figure size 1800x576 with 1 Axes>"
      ]
     },
     "metadata": {
      "needs_background": "light"
     },
     "output_type": "display_data"
    }
   ],
   "source": [
    "#pd.crosstab(df.main_category,df.state,margins=True).apply(lambda x: x/x.sum(), axis=1).plot(kind='bar',stacked=False,figsize=(20, 10))\n",
    "main_category_crosstab = pd.crosstab(df.main_category,df.state,margins=True)\n",
    "main_category_crosstab.sort_values(by='All',ascending=False).drop('All').plot(kind='bar',stacked=False,figsize=(25, 8))"
   ]
  },
  {
   "cell_type": "code",
   "execution_count": 73,
   "metadata": {},
   "outputs": [
    {
     "data": {
      "text/plain": [
       "<matplotlib.axes._subplots.AxesSubplot at 0x153902fd0>"
      ]
     },
     "execution_count": 73,
     "metadata": {},
     "output_type": "execute_result"
    },
    {
     "data": {
      "image/png": "[encoded data removed]",
      "text/plain": [
       "<Figure size 1800x720 with 1 Axes>"
      ]
     },
     "metadata": {
      "needs_background": "light"
     },
     "output_type": "display_data"
    }
   ],
   "source": [
    "country_crosstab = pd.crosstab(df.country,df.state,margins=True)\n",
    "country_crosstab.sort_values(by='All',ascending=False).drop('All').plot(kind='bar',stacked=False,figsize=(25, 10))"
   ]
  },
  {
   "cell_type": "code",
   "execution_count": 72,
   "metadata": {},
   "outputs": [
    {
     "data": {
      "text/plain": [
       "<matplotlib.axes._subplots.AxesSubplot at 0x1537cbfd0>"
      ]
     },
     "execution_count": 72,
     "metadata": {},
     "output_type": "execute_result"
    },
    {
     "data": {
      "image/png": "[encoded data removed]",
      "text/plain": [
       "<Figure size 1800x360 with 1 Axes>"
      ]
     },
     "metadata": {
      "needs_background": "light"
     },
     "output_type": "display_data"
    }
   ],
   "source": [
    "category_crosstab = pd.crosstab(df['category'],df.state,margins=True)\n",
    "category_crosstab.sort_values(by='All',ascending=False)[:20].drop('All').plot(kind='bar',stacked=False,figsize=(25, 5))"
   ]
  },
  {
   "cell_type": "code",
   "execution_count": 71,
   "metadata": {},
   "outputs": [
    {
     "data": {
      "text/html": [
       "<div>\n",
       "<style scoped>\n",
       "    .dataframe tbody tr th:only-of-type {\n",
       "        vertical-align: middle;\n",
       "    }\n",
       "\n",
       "    .dataframe tbody tr th {\n",
       "        vertical-align: top;\n",
       "    }\n",
       "\n",
       "    .dataframe thead th {\n",
       "        text-align: right;\n",
       "    }\n",
       "</style>\n",
       "<table border=\"1\" class=\"dataframe\">\n",
       "  <thead>\n",
       "    <tr style=\"text-align: right;\">\n",
       "      <th>state</th>\n",
       "      <th>failed</th>\n",
       "      <th>successful</th>\n",
       "      <th>All</th>\n",
       "    </tr>\n",
       "    <tr>\n",
       "      <th>category</th>\n",
       "      <th></th>\n",
       "      <th></th>\n",
       "      <th></th>\n",
       "    </tr>\n",
       "  </thead>\n",
       "  <tbody>\n",
       "    <tr>\n",
       "      <th>All</th>\n",
       "      <td>197719</td>\n",
       "      <td>133956</td>\n",
       "      <td>331675</td>\n",
       "    </tr>\n",
       "    <tr>\n",
       "      <th>Product Design</th>\n",
       "      <td>10718</td>\n",
       "      <td>7962</td>\n",
       "      <td>18680</td>\n",
       "    </tr>\n",
       "    <tr>\n",
       "      <th>Documentary</th>\n",
       "      <td>8599</td>\n",
       "      <td>5924</td>\n",
       "      <td>14523</td>\n",
       "    </tr>\n",
       "    <tr>\n",
       "      <th>Music</th>\n",
       "      <td>6201</td>\n",
       "      <td>6432</td>\n",
       "      <td>12633</td>\n",
       "    </tr>\n",
       "    <tr>\n",
       "      <th>Tabletop Games</th>\n",
       "      <td>3878</td>\n",
       "      <td>7866</td>\n",
       "      <td>11744</td>\n",
       "    </tr>\n",
       "    <tr>\n",
       "      <th>Shorts</th>\n",
       "      <td>4721</td>\n",
       "      <td>6673</td>\n",
       "      <td>11394</td>\n",
       "    </tr>\n",
       "    <tr>\n",
       "      <th>Food</th>\n",
       "      <td>7119</td>\n",
       "      <td>3297</td>\n",
       "      <td>10416</td>\n",
       "    </tr>\n",
       "    <tr>\n",
       "      <th>Video Games</th>\n",
       "      <td>6942</td>\n",
       "      <td>2386</td>\n",
       "      <td>9328</td>\n",
       "    </tr>\n",
       "    <tr>\n",
       "      <th>Film &amp; Video</th>\n",
       "      <td>5554</td>\n",
       "      <td>3070</td>\n",
       "      <td>8624</td>\n",
       "    </tr>\n",
       "    <tr>\n",
       "      <th>Fiction</th>\n",
       "      <td>5875</td>\n",
       "      <td>2233</td>\n",
       "      <td>8108</td>\n",
       "    </tr>\n",
       "  </tbody>\n",
       "</table>\n",
       "</div>"
      ],
      "text/plain": [
       "state           failed  successful     All\n",
       "category                                  \n",
       "All             197719      133956  331675\n",
       "Product Design   10718        7962   18680\n",
       "Documentary       8599        5924   14523\n",
       "Music             6201        6432   12633\n",
       "Tabletop Games    3878        7866   11744\n",
       "Shorts            4721        6673   11394\n",
       "Food              7119        3297   10416\n",
       "Video Games       6942        2386    9328\n",
       "Film & Video      5554        3070    8624\n",
       "Fiction           5875        2233    8108"
      ]
     },
     "execution_count": 71,
     "metadata": {},
     "output_type": "execute_result"
    }
   ],
   "source": [
    "category_crosstab.sort_values(by='All',ascending=False)[:10]"
   ]
  },
  {
   "cell_type": "code",
   "execution_count": 75,
   "metadata": {},
   "outputs": [
    {
     "data": {
      "text/plain": [
       "<matplotlib.axes._subplots.AxesSubplot at 0x1525d4e48>"
      ]
     },
     "execution_count": 75,
     "metadata": {},
     "output_type": "execute_result"
    },
    {
     "data": {
      "image/png": "[encoded data removed]",
      "text/plain": [
       "<Figure size 1800x360 with 1 Axes>"
      ]
     },
     "metadata": {
      "needs_background": "light"
     },
     "output_type": "display_data"
    }
   ],
   "source": [
    "currency_crosstab = pd.crosstab(df.currency,df.state,margins=True)\n",
    "currency_crosstab.sort_values(by='All',ascending=False).drop('All').plot(kind='bar',stacked=False,figsize=(25, 5))"
   ]
  },
  {
   "cell_type": "markdown",
   "metadata": {},
   "source": [
    "## 説明変数確認"
   ]
  },
  {
   "cell_type": "markdown",
   "metadata": {},
   "source": [
    "### 列名整理"
   ]
  },
  {
   "cell_type": "markdown",
   "metadata": {},
   "source": [
    "id:id<br/>\n",
    "name:プロジェクト名<br/>\n",
    "category:サブカテゴリ<br/>\n",
    "main_category:メインカテゴリ<br/>\n",
    "currency:通貨（プロジェクト地域の通貨が表示されるっぽい）<br/>\n",
    "deadline:調達期限<br/>\n",
    "goal:目標最小金額<br/>\n",
    "launched:プロジェクトローンチ日時（キックスターター開始日時）　<br/>\n",
    "pledged:実際の調達額（usdベースではない予感)<br/>\n",
    "state:プロジェクト成否　目的変数<br/>\n",
    "backers:支持者数<br/>\n",
    "country:国<br/>\n",
    "usdpledged:USドルでの調達？<br/>\n",
    "usd_pledged_real:USDに引き直した調達額<br/>\n",
    "usd_goal_real:USDに引き直した調達額<br/>"
   ]
  },
  {
   "cell_type": "markdown",
   "metadata": {},
   "source": [
    "### 欠損値確認"
   ]
  },
  {
   "cell_type": "code",
   "execution_count": 10,
   "metadata": {},
   "outputs": [
    {
     "name": "stdout",
     "output_type": "stream",
     "text": [
      "(331675, 15)\n",
      "331675\n"
     ]
    },
    {
     "data": {
      "text/plain": [
       "ID                    0\n",
       "name                  3\n",
       "category              0\n",
       "main_category         0\n",
       "currency              0\n",
       "deadline              0\n",
       "goal                  0\n",
       "launched              0\n",
       "pledged               0\n",
       "state                 0\n",
       "backers               0\n",
       "country               0\n",
       "usd pledged         210\n",
       "usd_pledged_real      0\n",
       "usd_goal_real         0\n",
       "dtype: int64"
      ]
     },
     "execution_count": 10,
     "metadata": {},
     "output_type": "execute_result"
    }
   ],
   "source": [
    "print(df.shape)\n",
    "print(len(df['ID']))\n",
    "df.isnull().sum()"
   ]
  },
  {
   "cell_type": "markdown",
   "metadata": {},
   "source": [
    "nameとusd　pledgedに欠損値。\n",
    "name,idを説明変数にするのは困難なので除外。\n",
    "goal,usd_goal_realは共に目標金額を表しており、<font color=\"Blue\">usd_goal_real</font>がUSDで引き直した金額を示しているようなので、goalを説明変数から除外<br/>\n",
    "pleged, usd pledged, usd_pleaged_real　はそれぞれ実際の調達額を示しているようだが、\n",
    "上記のgoalと同様と思われるのので <font color=\"Blue\">usd_pleaged_real</font>のみ説明変数として採用。"
   ]
  },
  {
   "cell_type": "code",
   "execution_count": 11,
   "metadata": {},
   "outputs": [
    {
     "data": {
      "text/plain": [
       "array([[<matplotlib.axes._subplots.AxesSubplot object at 0x1243ba240>,\n",
       "        <matplotlib.axes._subplots.AxesSubplot object at 0x12439f550>,\n",
       "        <matplotlib.axes._subplots.AxesSubplot object at 0x124406978>,\n",
       "        <matplotlib.axes._subplots.AxesSubplot object at 0x124430ef0>,\n",
       "        <matplotlib.axes._subplots.AxesSubplot object at 0x1246c14a8>],\n",
       "       [<matplotlib.axes._subplots.AxesSubplot object at 0x12545ea20>,\n",
       "        <matplotlib.axes._subplots.AxesSubplot object at 0x125488f98>,\n",
       "        <matplotlib.axes._subplots.AxesSubplot object at 0x1254b7588>,\n",
       "        <matplotlib.axes._subplots.AxesSubplot object at 0x1254b75c0>,\n",
       "        <matplotlib.axes._subplots.AxesSubplot object at 0x125510080>],\n",
       "       [<matplotlib.axes._subplots.AxesSubplot object at 0x1255375f8>,\n",
       "        <matplotlib.axes._subplots.AxesSubplot object at 0x12555eb70>,\n",
       "        <matplotlib.axes._subplots.AxesSubplot object at 0x125590128>,\n",
       "        <matplotlib.axes._subplots.AxesSubplot object at 0x1255b96a0>,\n",
       "        <matplotlib.axes._subplots.AxesSubplot object at 0x1255e2c18>],\n",
       "       [<matplotlib.axes._subplots.AxesSubplot object at 0x1256121d0>,\n",
       "        <matplotlib.axes._subplots.AxesSubplot object at 0x12563a748>,\n",
       "        <matplotlib.axes._subplots.AxesSubplot object at 0x125662cc0>,\n",
       "        <matplotlib.axes._subplots.AxesSubplot object at 0x125692278>,\n",
       "        <matplotlib.axes._subplots.AxesSubplot object at 0x1256b97f0>],\n",
       "       [<matplotlib.axes._subplots.AxesSubplot object at 0x1256e2d68>,\n",
       "        <matplotlib.axes._subplots.AxesSubplot object at 0x125717320>,\n",
       "        <matplotlib.axes._subplots.AxesSubplot object at 0x12573d898>,\n",
       "        <matplotlib.axes._subplots.AxesSubplot object at 0x125765e10>,\n",
       "        <matplotlib.axes._subplots.AxesSubplot object at 0x1257963c8>]],\n",
       "      dtype=object)"
      ]
     },
     "execution_count": 11,
     "metadata": {},
     "output_type": "execute_result"
    },
    {
     "data": {
      "image/png": "[encoded data removed]",
      "text/plain": [
       "<Figure size 1440x720 with 25 Axes>"
      ]
     },
     "metadata": {
      "needs_background": "light"
     },
     "output_type": "display_data"
    }
   ],
   "source": [
    "#一応散布図行列で確認 \n",
    "df_goal_pleaged = df[[\"goal\",\"usd_goal_real\",\"usd pledged\",\"usd_pledged_real\",\"pledged\"]]\n",
    "pd.plotting.scatter_matrix(df_goal_pleaged,figsize=(20,10))"
   ]
  },
  {
   "cell_type": "code",
   "execution_count": 12,
   "metadata": {},
   "outputs": [
    {
     "data": {
      "image/png": "[encoded data removed]",
      "text/plain": [
       "<Figure size 432x288 with 2 Axes>"
      ]
     },
     "metadata": {
      "needs_background": "light"
     },
     "output_type": "display_data"
    },
    {
     "data": {
      "text/html": [
       "<div>\n",
       "<style scoped>\n",
       "    .dataframe tbody tr th:only-of-type {\n",
       "        vertical-align: middle;\n",
       "    }\n",
       "\n",
       "    .dataframe tbody tr th {\n",
       "        vertical-align: top;\n",
       "    }\n",
       "\n",
       "    .dataframe thead th {\n",
       "        text-align: right;\n",
       "    }\n",
       "</style>\n",
       "<table border=\"1\" class=\"dataframe\">\n",
       "  <thead>\n",
       "    <tr style=\"text-align: right;\">\n",
       "      <th></th>\n",
       "      <th>goal</th>\n",
       "      <th>usd_goal_real</th>\n",
       "      <th>usd pledged</th>\n",
       "      <th>usd_pledged_real</th>\n",
       "      <th>pledged</th>\n",
       "    </tr>\n",
       "  </thead>\n",
       "  <tbody>\n",
       "    <tr>\n",
       "      <th>goal</th>\n",
       "      <td>1.000000</td>\n",
       "      <td>0.952614</td>\n",
       "      <td>0.006416</td>\n",
       "      <td>0.005955</td>\n",
       "      <td>0.007965</td>\n",
       "    </tr>\n",
       "    <tr>\n",
       "      <th>usd_goal_real</th>\n",
       "      <td>0.952614</td>\n",
       "      <td>1.000000</td>\n",
       "      <td>0.006965</td>\n",
       "      <td>0.006354</td>\n",
       "      <td>0.005722</td>\n",
       "    </tr>\n",
       "    <tr>\n",
       "      <th>usd pledged</th>\n",
       "      <td>0.006416</td>\n",
       "      <td>0.006965</td>\n",
       "      <td>1.000000</td>\n",
       "      <td>0.907713</td>\n",
       "      <td>0.857966</td>\n",
       "    </tr>\n",
       "    <tr>\n",
       "      <th>usd_pledged_real</th>\n",
       "      <td>0.005955</td>\n",
       "      <td>0.006354</td>\n",
       "      <td>0.907713</td>\n",
       "      <td>1.000000</td>\n",
       "      <td>0.953571</td>\n",
       "    </tr>\n",
       "    <tr>\n",
       "      <th>pledged</th>\n",
       "      <td>0.007965</td>\n",
       "      <td>0.005722</td>\n",
       "      <td>0.857966</td>\n",
       "      <td>0.953571</td>\n",
       "      <td>1.000000</td>\n",
       "    </tr>\n",
       "  </tbody>\n",
       "</table>\n",
       "</div>"
      ],
      "text/plain": [
       "                      goal  usd_goal_real  usd pledged  usd_pledged_real  \\\n",
       "goal              1.000000       0.952614     0.006416          0.005955   \n",
       "usd_goal_real     0.952614       1.000000     0.006965          0.006354   \n",
       "usd pledged       0.006416       0.006965     1.000000          0.907713   \n",
       "usd_pledged_real  0.005955       0.006354     0.907713          1.000000   \n",
       "pledged           0.007965       0.005722     0.857966          0.953571   \n",
       "\n",
       "                   pledged  \n",
       "goal              0.007965  \n",
       "usd_goal_real     0.005722  \n",
       "usd pledged       0.857966  \n",
       "usd_pledged_real  0.953571  \n",
       "pledged           1.000000  "
      ]
     },
     "execution_count": 12,
     "metadata": {},
     "output_type": "execute_result"
    }
   ],
   "source": [
    "#相関係数もついでに\n",
    "sns.heatmap(df_goal_pleaged.corr())\n",
    "plt.show()\n",
    "df_goal_pleaged.corr()"
   ]
  },
  {
   "cell_type": "markdown",
   "metadata": {},
   "source": [
    "ほぼ同様のデータを示しているようであるため除外することにしたが、無相関化するなどするべき？"
   ]
  },
  {
   "cell_type": "markdown",
   "metadata": {},
   "source": [
    "## 説明変数を作成"
   ]
  },
  {
   "cell_type": "markdown",
   "metadata": {},
   "source": [
    "category, \n",
    "main_category, \n",
    "currency, \n",
    "country\n",
    "はカテゴリ変数のため、ダミー変換する必要がある。<br/>"
   ]
  },
  {
   "cell_type": "code",
   "execution_count": 13,
   "metadata": {},
   "outputs": [],
   "source": [
    "explanatory_df = df.copy()"
   ]
  },
  {
   "cell_type": "code",
   "execution_count": 14,
   "metadata": {},
   "outputs": [],
   "source": [
    "explanatory_df = explanatory_df.drop('ID',1)\n",
    "explanatory_df = explanatory_df.drop('name', 1)\n",
    "explanatory_df = explanatory_df.drop('pledged',1)\n",
    "explanatory_df = explanatory_df.drop('usd pledged',1)\n",
    "explanatory_df = explanatory_df.drop('goal',1)"
   ]
  },
  {
   "cell_type": "markdown",
   "metadata": {},
   "source": [
    "deadline,launchedは日時データでそのまま使えないため、プロジェクトの期間(日数)として変換して変数化してみる。"
   ]
  },
  {
   "cell_type": "code",
   "execution_count": 15,
   "metadata": {},
   "outputs": [],
   "source": [
    "explanatory_df['launched'] = pd.to_datetime(explanatory_df['launched'])\n",
    "explanatory_df['deadline'] = pd.to_datetime(explanatory_df['deadline'])\n",
    "explanatory_df['project_period'] = explanatory_df['deadline'].subtract(explanatory_df['launched'])\n",
    "explanatory_df['project_period'] = explanatory_df['project_period'].astype('timedelta64[D]')\n",
    "\n",
    "explanatory_df = explanatory_df.drop('launched',1)\n",
    "explanatory_df = explanatory_df.drop('deadline',1)"
   ]
  },
  {
   "cell_type": "markdown",
   "metadata": {},
   "source": [
    "category, main_category, currency, country はカテゴリ変数のため、ダミーへ変換"
   ]
  },
  {
   "cell_type": "code",
   "execution_count": 16,
   "metadata": {},
   "outputs": [],
   "source": [
    "explanatory_df = pd.get_dummies(explanatory_df, columns = ['main_category'])\n",
    "explanatory_df = pd.get_dummies(explanatory_df, columns = ['category'])\n",
    "explanatory_df = pd.get_dummies(explanatory_df, columns = ['currency'])\n",
    "explanatory_df = pd.get_dummies(explanatory_df, columns = ['country'])"
   ]
  },
  {
   "cell_type": "markdown",
   "metadata": {},
   "source": [
    "目的変数をラベル化"
   ]
  },
  {
   "cell_type": "code",
   "execution_count": 17,
   "metadata": {},
   "outputs": [],
   "source": [
    "mapping_success = {'successful': 1, 'failed':0 }\n",
    "explanatory_df['state'] = explanatory_df['state'].map(mapping_success)"
   ]
  },
  {
   "cell_type": "code",
   "execution_count": 18,
   "metadata": {},
   "outputs": [
    {
     "data": {
      "text/html": [
       "<div>\n",
       "<style scoped>\n",
       "    .dataframe tbody tr th:only-of-type {\n",
       "        vertical-align: middle;\n",
       "    }\n",
       "\n",
       "    .dataframe tbody tr th {\n",
       "        vertical-align: top;\n",
       "    }\n",
       "\n",
       "    .dataframe thead th {\n",
       "        text-align: right;\n",
       "    }\n",
       "</style>\n",
       "<table border=\"1\" class=\"dataframe\">\n",
       "  <thead>\n",
       "    <tr style=\"text-align: right;\">\n",
       "      <th></th>\n",
       "      <th>state</th>\n",
       "      <th>backers</th>\n",
       "      <th>usd_pledged_real</th>\n",
       "      <th>usd_goal_real</th>\n",
       "      <th>project_period</th>\n",
       "      <th>main_category_Art</th>\n",
       "      <th>main_category_Comics</th>\n",
       "      <th>main_category_Crafts</th>\n",
       "      <th>main_category_Dance</th>\n",
       "      <th>main_category_Design</th>\n",
       "      <th>...</th>\n",
       "      <th>country_JP</th>\n",
       "      <th>country_LU</th>\n",
       "      <th>country_MX</th>\n",
       "      <th>country_N,0\"</th>\n",
       "      <th>country_NL</th>\n",
       "      <th>country_NO</th>\n",
       "      <th>country_NZ</th>\n",
       "      <th>country_SE</th>\n",
       "      <th>country_SG</th>\n",
       "      <th>country_US</th>\n",
       "    </tr>\n",
       "  </thead>\n",
       "  <tbody>\n",
       "    <tr>\n",
       "      <th>0</th>\n",
       "      <td>0</td>\n",
       "      <td>0</td>\n",
       "      <td>0.0</td>\n",
       "      <td>1533.95</td>\n",
       "      <td>58.0</td>\n",
       "      <td>0</td>\n",
       "      <td>0</td>\n",
       "      <td>0</td>\n",
       "      <td>0</td>\n",
       "      <td>0</td>\n",
       "      <td>...</td>\n",
       "      <td>0</td>\n",
       "      <td>0</td>\n",
       "      <td>0</td>\n",
       "      <td>0</td>\n",
       "      <td>0</td>\n",
       "      <td>0</td>\n",
       "      <td>0</td>\n",
       "      <td>0</td>\n",
       "      <td>0</td>\n",
       "      <td>0</td>\n",
       "    </tr>\n",
       "    <tr>\n",
       "      <th>1</th>\n",
       "      <td>0</td>\n",
       "      <td>15</td>\n",
       "      <td>2421.0</td>\n",
       "      <td>30000.00</td>\n",
       "      <td>59.0</td>\n",
       "      <td>0</td>\n",
       "      <td>0</td>\n",
       "      <td>0</td>\n",
       "      <td>0</td>\n",
       "      <td>0</td>\n",
       "      <td>...</td>\n",
       "      <td>0</td>\n",
       "      <td>0</td>\n",
       "      <td>0</td>\n",
       "      <td>0</td>\n",
       "      <td>0</td>\n",
       "      <td>0</td>\n",
       "      <td>0</td>\n",
       "      <td>0</td>\n",
       "      <td>0</td>\n",
       "      <td>1</td>\n",
       "    </tr>\n",
       "    <tr>\n",
       "      <th>2</th>\n",
       "      <td>0</td>\n",
       "      <td>3</td>\n",
       "      <td>220.0</td>\n",
       "      <td>45000.00</td>\n",
       "      <td>44.0</td>\n",
       "      <td>0</td>\n",
       "      <td>0</td>\n",
       "      <td>0</td>\n",
       "      <td>0</td>\n",
       "      <td>0</td>\n",
       "      <td>...</td>\n",
       "      <td>0</td>\n",
       "      <td>0</td>\n",
       "      <td>0</td>\n",
       "      <td>0</td>\n",
       "      <td>0</td>\n",
       "      <td>0</td>\n",
       "      <td>0</td>\n",
       "      <td>0</td>\n",
       "      <td>0</td>\n",
       "      <td>1</td>\n",
       "    </tr>\n",
       "  </tbody>\n",
       "</table>\n",
       "<p>3 rows × 216 columns</p>\n",
       "</div>"
      ],
      "text/plain": [
       "   state  backers  usd_pledged_real  usd_goal_real  project_period  \\\n",
       "0      0        0               0.0        1533.95            58.0   \n",
       "1      0       15            2421.0       30000.00            59.0   \n",
       "2      0        3             220.0       45000.00            44.0   \n",
       "\n",
       "   main_category_Art  main_category_Comics  main_category_Crafts  \\\n",
       "0                  0                     0                     0   \n",
       "1                  0                     0                     0   \n",
       "2                  0                     0                     0   \n",
       "\n",
       "   main_category_Dance  main_category_Design  ...  country_JP  country_LU  \\\n",
       "0                    0                     0  ...           0           0   \n",
       "1                    0                     0  ...           0           0   \n",
       "2                    0                     0  ...           0           0   \n",
       "\n",
       "   country_MX  country_N,0\"  country_NL  country_NO  country_NZ  country_SE  \\\n",
       "0           0             0           0           0           0           0   \n",
       "1           0             0           0           0           0           0   \n",
       "2           0             0           0           0           0           0   \n",
       "\n",
       "   country_SG  country_US  \n",
       "0           0           0  \n",
       "1           0           1  \n",
       "2           0           1  \n",
       "\n",
       "[3 rows x 216 columns]"
      ]
     },
     "execution_count": 18,
     "metadata": {},
     "output_type": "execute_result"
    }
   ],
   "source": [
    "explanatory_df.head(3)"
   ]
  },
  {
   "cell_type": "markdown",
   "metadata": {},
   "source": [
    " ## 確率的勾配法で学習"
   ]
  },
  {
   "cell_type": "code",
   "execution_count": 19,
   "metadata": {},
   "outputs": [
    {
     "name": "stderr",
     "output_type": "stream",
     "text": [
      "/Users/kaoru/.pyenv/versions/3.6.7/envs/ml_lecture/lib/python3.6/site-packages/sklearn/linear_model/stochastic_gradient.py:183: FutureWarning: max_iter and tol parameters have been added in SGDClassifier in 0.19. If max_iter is set but tol is left unset, the default value for tol in 0.19 and 0.20 will be None (which is equivalent to -infinity, so it has no effect) but will change in 0.21 to 1e-3. Specify tol to silence this warning.\n",
      "  FutureWarning)\n"
     ]
    },
    {
     "data": {
      "text/plain": [
       "SGDClassifier(alpha=0.0001, average=False, class_weight=None,\n",
       "       early_stopping=False, epsilon=0.1, eta0=0.0, fit_intercept=True,\n",
       "       l1_ratio=0.15, learning_rate='optimal', loss='log', max_iter=10000,\n",
       "       n_iter=None, n_iter_no_change=5, n_jobs=None, penalty='none',\n",
       "       power_t=0.5, random_state=1234, shuffle=True, tol=None,\n",
       "       validation_fraction=0.1, verbose=0, warm_start=False)"
      ]
     },
     "execution_count": 19,
     "metadata": {},
     "output_type": "execute_result"
    }
   ],
   "source": [
    "y = explanatory_df['state'].values\n",
    "X = explanatory_df.drop('state', axis=1).values\n",
    "clf = SGDClassifier(loss='log', penalty='none', max_iter=10000, fit_intercept=True, random_state=1234)\n",
    "clf.fit(X, y)"
   ]
  },
  {
   "cell_type": "code",
   "execution_count": 23,
   "metadata": {
    "collapsed": true
   },
   "outputs": [
    {
     "data": {
      "text/plain": [
       "(1, 215)"
      ]
     },
     "execution_count": 23,
     "metadata": {},
     "output_type": "execute_result"
    }
   ],
   "source": [
    "clf.coef_.shape"
   ]
  },
  {
   "cell_type": "markdown",
   "metadata": {},
   "source": [
    "## labelを予測"
   ]
  },
  {
   "cell_type": "markdown",
   "metadata": {},
   "source": [
    "### 確率的勾配降下法"
   ]
  },
  {
   "cell_type": "code",
   "execution_count": 41,
   "metadata": {},
   "outputs": [],
   "source": [
    "#データをテスト用、訓練用に分割\n",
    "X_train, X_test, y_train, y_test = train_test_split(X, y, test_size=0.2, random_state=1234)"
   ]
  },
  {
   "cell_type": "code",
   "execution_count": 35,
   "metadata": {},
   "outputs": [
    {
     "name": "stderr",
     "output_type": "stream",
     "text": [
      "/Users/kaoru/.pyenv/versions/3.6.7/envs/ml_lecture/lib/python3.6/site-packages/sklearn/linear_model/stochastic_gradient.py:183: FutureWarning: max_iter and tol parameters have been added in SGDClassifier in 0.19. If max_iter is set but tol is left unset, the default value for tol in 0.19 and 0.20 will be None (which is equivalent to -infinity, so it has no effect) but will change in 0.21 to 1e-3. Specify tol to silence this warning.\n",
      "  FutureWarning)\n"
     ]
    },
    {
     "data": {
      "text/plain": [
       "SGDClassifier(alpha=0.0001, average=False, class_weight=None,\n",
       "       early_stopping=False, epsilon=0.1, eta0=0.0, fit_intercept=True,\n",
       "       l1_ratio=0.15, learning_rate='optimal', loss='log', max_iter=10000,\n",
       "       n_iter=None, n_iter_no_change=5, n_jobs=None, penalty='none',\n",
       "       power_t=0.5, random_state=1234, shuffle=True, tol=None,\n",
       "       validation_fraction=0.1, verbose=0, warm_start=False)"
      ]
     },
     "execution_count": 35,
     "metadata": {},
     "output_type": "execute_result"
    }
   ],
   "source": [
    "#確率的勾配降下法\n",
    "clf = SGDClassifier(loss='log', penalty='none', max_iter=10000, fit_intercept=True, random_state=1234)\n",
    "clf.fit(X_train, y_train)"
   ]
  },
  {
   "cell_type": "code",
   "execution_count": 37,
   "metadata": {},
   "outputs": [
    {
     "name": "stdout",
     "output_type": "stream",
     "text": [
      "対数尤度 = -0.005\n",
      "正答率 = 99.985%\n"
     ]
    }
   ],
   "source": [
    "# テストデータでラベルを予測\n",
    "y_est = clf.predict(X_test)\n",
    "\n",
    "# 対数尤度を表示\n",
    "print('対数尤度 = {:.3f}'.format(- log_loss(y_test ,y_est)))\n",
    "\n",
    "# 正答率を表示\n",
    "print('正答率 = {:.3f}%'.format(100 * accuracy_score(y_test, y_est)))"
   ]
  },
  {
   "cell_type": "code",
   "execution_count": 38,
   "metadata": {},
   "outputs": [
    {
     "data": {
      "text/html": [
       "<div>\n",
       "<style scoped>\n",
       "    .dataframe tbody tr th:only-of-type {\n",
       "        vertical-align: middle;\n",
       "    }\n",
       "\n",
       "    .dataframe tbody tr th {\n",
       "        vertical-align: top;\n",
       "    }\n",
       "\n",
       "    .dataframe thead th {\n",
       "        text-align: right;\n",
       "    }\n",
       "</style>\n",
       "<table border=\"1\" class=\"dataframe\">\n",
       "  <thead>\n",
       "    <tr style=\"text-align: right;\">\n",
       "      <th></th>\n",
       "      <th>予測 = kickstarter失敗</th>\n",
       "      <th>予測 = kickstarter成功</th>\n",
       "    </tr>\n",
       "  </thead>\n",
       "  <tbody>\n",
       "    <tr>\n",
       "      <th>正解 = kickstarter失敗</th>\n",
       "      <td>39727</td>\n",
       "      <td>1</td>\n",
       "    </tr>\n",
       "    <tr>\n",
       "      <th>正解 = kickstarter成功</th>\n",
       "      <td>9</td>\n",
       "      <td>26598</td>\n",
       "    </tr>\n",
       "  </tbody>\n",
       "</table>\n",
       "</div>"
      ],
      "text/plain": [
       "                    予測 = kickstarter失敗  予測 = kickstarter成功\n",
       "正解 = kickstarter失敗               39727                   1\n",
       "正解 = kickstarter成功                   9               26598"
      ]
     },
     "execution_count": 38,
     "metadata": {},
     "output_type": "execute_result"
    }
   ],
   "source": [
    "# 予測値と正解のクロス集計\n",
    "conf_mat = pd.DataFrame(confusion_matrix(y_test, y_est), \n",
    "                        index=['正解 = kickstarter失敗', '正解 = kickstarter成功'], \n",
    "                        columns=['予測 = kickstarter失敗', '予測 = kickstarter成功'])\n",
    "conf_mat"
   ]
  },
  {
   "cell_type": "code",
   "execution_count": 39,
   "metadata": {},
   "outputs": [
    {
     "name": "stdout",
     "output_type": "stream",
     "text": [
      "適合率:99.996%\n",
      "再現率:99.966%\n",
      "F値:99.981%\n"
     ]
    }
   ],
   "source": [
    "print('適合率:{:.3f}%'.format(100 * precision_score(y_test,y_est)))\n",
    "print('再現率:{:.3f}%'.format(100 * recall_score(y_test,y_est)))\n",
    "print('F値:{:.3f}%'.format(100 * f1_score(y_test,y_est)))"
   ]
  },
  {
   "cell_type": "code",
   "execution_count": 44,
   "metadata": {},
   "outputs": [
    {
     "data": {
      "text/html": [
       "<div>\n",
       "<style scoped>\n",
       "    .dataframe tbody tr th:only-of-type {\n",
       "        vertical-align: middle;\n",
       "    }\n",
       "\n",
       "    .dataframe tbody tr th {\n",
       "        vertical-align: top;\n",
       "    }\n",
       "\n",
       "    .dataframe thead th {\n",
       "        text-align: right;\n",
       "    }\n",
       "</style>\n",
       "<table border=\"1\" class=\"dataframe\">\n",
       "  <thead>\n",
       "    <tr style=\"text-align: right;\">\n",
       "      <th></th>\n",
       "      <th>説明変数</th>\n",
       "      <th>重み</th>\n",
       "    </tr>\n",
       "  </thead>\n",
       "  <tbody>\n",
       "    <tr>\n",
       "      <th>1</th>\n",
       "      <td>usd_pledged_real</td>\n",
       "      <td>385487.405744</td>\n",
       "    </tr>\n",
       "    <tr>\n",
       "      <th>0</th>\n",
       "      <td>backers</td>\n",
       "      <td>2528.740577</td>\n",
       "    </tr>\n",
       "    <tr>\n",
       "      <th>10</th>\n",
       "      <td>main_category_Film &amp; Video</td>\n",
       "      <td>26.083131</td>\n",
       "    </tr>\n",
       "    <tr>\n",
       "      <th>58</th>\n",
       "      <td>category_Documentary</td>\n",
       "      <td>18.630447</td>\n",
       "    </tr>\n",
       "    <tr>\n",
       "      <th>11</th>\n",
       "      <td>main_category_Food</td>\n",
       "      <td>16.997632</td>\n",
       "    </tr>\n",
       "    <tr>\n",
       "      <th>201</th>\n",
       "      <td>country_GB</td>\n",
       "      <td>14.049530</td>\n",
       "    </tr>\n",
       "    <tr>\n",
       "      <th>183</th>\n",
       "      <td>currency_GBP</td>\n",
       "      <td>14.049530</td>\n",
       "    </tr>\n",
       "    <tr>\n",
       "      <th>16</th>\n",
       "      <td>main_category_Publishing</td>\n",
       "      <td>13.248583</td>\n",
       "    </tr>\n",
       "    <tr>\n",
       "      <th>4</th>\n",
       "      <td>main_category_Art</td>\n",
       "      <td>11.414591</td>\n",
       "    </tr>\n",
       "    <tr>\n",
       "      <th>77</th>\n",
       "      <td>category_Food</td>\n",
       "      <td>11.361540</td>\n",
       "    </tr>\n",
       "  </tbody>\n",
       "</table>\n",
       "</div>"
      ],
      "text/plain": [
       "                           説明変数             重み\n",
       "1              usd_pledged_real  385487.405744\n",
       "0                       backers    2528.740577\n",
       "10   main_category_Film & Video      26.083131\n",
       "58         category_Documentary      18.630447\n",
       "11           main_category_Food      16.997632\n",
       "201                  country_GB      14.049530\n",
       "183                currency_GBP      14.049530\n",
       "16     main_category_Publishing      13.248583\n",
       "4             main_category_Art      11.414591\n",
       "77                category_Food      11.361540"
      ]
     },
     "execution_count": 44,
     "metadata": {},
     "output_type": "execute_result"
    }
   ],
   "source": [
    "coeff_df = pd.DataFrame(explanatory_df.columns.delete(0))\n",
    "coeff_df.columns = ['説明変数']\n",
    "coeff_df[\"重み\"] = pd.Series(clf.coef_[0])\n",
    "\n",
    "coeff_df.sort_values(by='重み', ascending=False)[0:10]"
   ]
  },
  {
   "cell_type": "code",
   "execution_count": 46,
   "metadata": {},
   "outputs": [
    {
     "name": "stderr",
     "output_type": "stream",
     "text": [
      "/Users/kaoru/.pyenv/versions/3.6.7/envs/ml_lecture/lib/python3.6/site-packages/sklearn/linear_model/logistic.py:433: FutureWarning: Default solver will be changed to 'lbfgs' in 0.22. Specify a solver to silence this warning.\n",
      "  FutureWarning)\n"
     ]
    },
    {
     "name": "stdout",
     "output_type": "stream",
     "text": [
      "正答率 = 99.910%\n"
     ]
    }
   ],
   "source": [
    "logisreg = LogisticRegression()\n",
    "logisreg.fit(X_train, y_train)\n",
    "logisreg_predict = logisreg.predict(X_test)\n",
    "# 正答率を表示\n",
    "print('正答率 = {:.3f}%'.format(100 * accuracy_score(y_test, logisreg_predict)))"
   ]
  },
  {
   "cell_type": "code",
   "execution_count": 56,
   "metadata": {},
   "outputs": [
    {
     "data": {
      "text/html": [
       "<div>\n",
       "<style scoped>\n",
       "    .dataframe tbody tr th:only-of-type {\n",
       "        vertical-align: middle;\n",
       "    }\n",
       "\n",
       "    .dataframe tbody tr th {\n",
       "        vertical-align: top;\n",
       "    }\n",
       "\n",
       "    .dataframe thead th {\n",
       "        text-align: right;\n",
       "    }\n",
       "</style>\n",
       "<table border=\"1\" class=\"dataframe\">\n",
       "  <thead>\n",
       "    <tr style=\"text-align: right;\">\n",
       "      <th></th>\n",
       "      <th>説明変数</th>\n",
       "      <th>重み</th>\n",
       "    </tr>\n",
       "  </thead>\n",
       "  <tbody>\n",
       "    <tr>\n",
       "      <th>1</th>\n",
       "      <td>usd_pledged_real</td>\n",
       "      <td>0.032484</td>\n",
       "    </tr>\n",
       "    <tr>\n",
       "      <th>3</th>\n",
       "      <td>project_period</td>\n",
       "      <td>0.011417</td>\n",
       "    </tr>\n",
       "    <tr>\n",
       "      <th>0</th>\n",
       "      <td>backers</td>\n",
       "      <td>0.006836</td>\n",
       "    </tr>\n",
       "    <tr>\n",
       "      <th>191</th>\n",
       "      <td>currency_USD</td>\n",
       "      <td>0.000335</td>\n",
       "    </tr>\n",
       "    <tr>\n",
       "      <th>214</th>\n",
       "      <td>country_US</td>\n",
       "      <td>0.000335</td>\n",
       "    </tr>\n",
       "    <tr>\n",
       "      <th>14</th>\n",
       "      <td>main_category_Music</td>\n",
       "      <td>0.000102</td>\n",
       "    </tr>\n",
       "    <tr>\n",
       "      <th>10</th>\n",
       "      <td>main_category_Film &amp; Video</td>\n",
       "      <td>0.000101</td>\n",
       "    </tr>\n",
       "    <tr>\n",
       "      <th>4</th>\n",
       "      <td>main_category_Art</td>\n",
       "      <td>0.000064</td>\n",
       "    </tr>\n",
       "    <tr>\n",
       "      <th>183</th>\n",
       "      <td>currency_GBP</td>\n",
       "      <td>0.000063</td>\n",
       "    </tr>\n",
       "    <tr>\n",
       "      <th>201</th>\n",
       "      <td>country_GB</td>\n",
       "      <td>0.000063</td>\n",
       "    </tr>\n",
       "  </tbody>\n",
       "</table>\n",
       "</div>"
      ],
      "text/plain": [
       "                           説明変数        重み\n",
       "1              usd_pledged_real  0.032484\n",
       "3                project_period  0.011417\n",
       "0                       backers  0.006836\n",
       "191                currency_USD  0.000335\n",
       "214                  country_US  0.000335\n",
       "14          main_category_Music  0.000102\n",
       "10   main_category_Film & Video  0.000101\n",
       "4             main_category_Art  0.000064\n",
       "183                currency_GBP  0.000063\n",
       "201                  country_GB  0.000063"
      ]
     },
     "execution_count": 56,
     "metadata": {},
     "output_type": "execute_result"
    }
   ],
   "source": [
    "LRcoeff_df = pd.DataFrame(explanatory_df.columns.delete(0))\n",
    "LRcoeff_df.columns = ['説明変数']\n",
    "LRcoeff_df[\"重み\"] = pd.Series(logisreg.coef_[0])\n",
    "LRcoeff_df.sort_values(by='重み', ascending=False)[0:10]"
   ]
  },
  {
   "cell_type": "code",
   "execution_count": null,
   "metadata": {},
   "outputs": [],
   "source": []
  }
 ],
 "metadata": {
  "kernelspec": {
   "display_name": "Python 3",
   "language": "python",
   "name": "python3"
  },
  "language_info": {
   "codemirror_mode": {
    "name": "ipython",
    "version": 3
   },
   "file_extension": ".py",
   "mimetype": "text/x-python",
   "name": "python",
   "nbconvert_exporter": "python",
   "pygments_lexer": "ipython3",
   "version": "3.6.7"
  }
 },
 "nbformat": 4,
 "nbformat_minor": 2
}
